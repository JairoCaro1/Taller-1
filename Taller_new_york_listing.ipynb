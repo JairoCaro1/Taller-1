{
  "cells": [
    {
      "cell_type": "code",
      "execution_count": 1,
      "id": "a407e4d7-48e8-4daa-accd-4324afd51fa5",
      "metadata": {
        "id": "a407e4d7-48e8-4daa-accd-4324afd51fa5"
      },
      "outputs": [],
      "source": [
        "import pandas as pd\n",
        "import matplotlib.pyplot as plt\n"
      ]
    },
    {
      "cell_type": "code",
      "execution_count": 2,
      "id": "f8beb91b-63f1-4af1-86ad-5dc6346848ce",
      "metadata": {
        "id": "f8beb91b-63f1-4af1-86ad-5dc6346848ce"
      },
      "outputs": [],
      "source": [
        "listin   = pd.read_csv('listings.csv')"
      ]
    },
    {
      "cell_type": "code",
      "execution_count": 117,
      "id": "1e81a452-ea5d-4b51-8bc8-8c266e530baf",
      "metadata": {
        "id": "1e81a452-ea5d-4b51-8bc8-8c266e530baf",
        "outputId": "c8fc717b-245f-4747-e842-3daeb4214e1c",
        "colab": {
          "base_uri": "https://localhost:8080/"
        }
      },
      "outputs": [
        {
          "output_type": "execute_result",
          "data": {
            "text/plain": [
              "(37765, 75)"
            ]
          },
          "metadata": {},
          "execution_count": 117
        }
      ],
      "source": [
        "listin.shape"
      ]
    },
    {
      "cell_type": "code",
      "execution_count": 118,
      "id": "4509f0eb-c20a-4244-88df-8008412d9d68",
      "metadata": {
        "id": "4509f0eb-c20a-4244-88df-8008412d9d68",
        "outputId": "c85328d0-b604-476d-ea84-dfa6e8348c5d",
        "colab": {
          "base_uri": "https://localhost:8080/"
        }
      },
      "outputs": [
        {
          "output_type": "stream",
          "name": "stdout",
          "text": [
            "<class 'pandas.core.frame.DataFrame'>\n",
            "RangeIndex: 37765 entries, 0 to 37764\n",
            "Data columns (total 75 columns):\n",
            " #   Column                                        Non-Null Count  Dtype  \n",
            "---  ------                                        --------------  -----  \n",
            " 0   id                                            37765 non-null  int64  \n",
            " 1   listing_url                                   37765 non-null  object \n",
            " 2   scrape_id                                     37765 non-null  int64  \n",
            " 3   last_scraped                                  37765 non-null  object \n",
            " 4   source                                        37765 non-null  object \n",
            " 5   name                                          37763 non-null  object \n",
            " 6   description                                   36675 non-null  object \n",
            " 7   neighborhood_overview                         21296 non-null  object \n",
            " 8   picture_url                                   37764 non-null  object \n",
            " 9   host_id                                       37765 non-null  int64  \n",
            " 10  host_url                                      37765 non-null  object \n",
            " 11  host_name                                     37760 non-null  object \n",
            " 12  host_since                                    37760 non-null  object \n",
            " 13  host_location                                 29703 non-null  object \n",
            " 14  host_about                                    21446 non-null  object \n",
            " 15  host_response_time                            23035 non-null  object \n",
            " 16  host_response_rate                            23035 non-null  object \n",
            " 17  host_acceptance_rate                          24845 non-null  object \n",
            " 18  host_is_superhost                             37367 non-null  object \n",
            " 19  host_thumbnail_url                            37760 non-null  object \n",
            " 20  host_picture_url                              37760 non-null  object \n",
            " 21  host_neighbourhood                            30258 non-null  object \n",
            " 22  host_listings_count                           37760 non-null  float64\n",
            " 23  host_total_listings_count                     37760 non-null  float64\n",
            " 24  host_verifications                            37760 non-null  object \n",
            " 25  host_has_profile_pic                          37760 non-null  object \n",
            " 26  host_identity_verified                        37760 non-null  object \n",
            " 27  neighbourhood                                 21297 non-null  object \n",
            " 28  neighbourhood_cleansed                        37765 non-null  object \n",
            " 29  neighbourhood_group_cleansed                  37765 non-null  object \n",
            " 30  latitude                                      37765 non-null  float64\n",
            " 31  longitude                                     37765 non-null  float64\n",
            " 32  property_type                                 37765 non-null  object \n",
            " 33  room_type                                     37765 non-null  object \n",
            " 34  accommodates                                  37765 non-null  int64  \n",
            " 35  bathrooms                                     23172 non-null  float64\n",
            " 36  bathrooms_text                                37728 non-null  object \n",
            " 37  bedrooms                                      31882 non-null  float64\n",
            " 38  beds                                          22988 non-null  float64\n",
            " 39  amenities                                     37765 non-null  object \n",
            " 40  price                                         23044 non-null  object \n",
            " 41  minimum_nights                                37765 non-null  int64  \n",
            " 42  maximum_nights                                37765 non-null  int64  \n",
            " 43  minimum_minimum_nights                        37764 non-null  float64\n",
            " 44  maximum_minimum_nights                        37764 non-null  float64\n",
            " 45  minimum_maximum_nights                        37764 non-null  float64\n",
            " 46  maximum_maximum_nights                        37764 non-null  float64\n",
            " 47  minimum_nights_avg_ntm                        37764 non-null  float64\n",
            " 48  maximum_nights_avg_ntm                        37764 non-null  float64\n",
            " 49  calendar_updated                              0 non-null      float64\n",
            " 50  has_availability                              32360 non-null  object \n",
            " 51  availability_30                               37765 non-null  int64  \n",
            " 52  availability_60                               37765 non-null  int64  \n",
            " 53  availability_90                               37765 non-null  int64  \n",
            " 54  availability_365                              37765 non-null  int64  \n",
            " 55  calendar_last_scraped                         37765 non-null  object \n",
            " 56  number_of_reviews                             37765 non-null  int64  \n",
            " 57  number_of_reviews_ltm                         37765 non-null  int64  \n",
            " 58  number_of_reviews_l30d                        37765 non-null  int64  \n",
            " 59  first_review                                  26014 non-null  object \n",
            " 60  last_review                                   26014 non-null  object \n",
            " 61  review_scores_rating                          26014 non-null  float64\n",
            " 62  review_scores_accuracy                        25997 non-null  float64\n",
            " 63  review_scores_cleanliness                     26007 non-null  float64\n",
            " 64  review_scores_checkin                         25993 non-null  float64\n",
            " 65  review_scores_communication                   26002 non-null  float64\n",
            " 66  review_scores_location                        25990 non-null  float64\n",
            " 67  review_scores_value                           25991 non-null  float64\n",
            " 68  license                                       5171 non-null   object \n",
            " 69  instant_bookable                              37765 non-null  object \n",
            " 70  calculated_host_listings_count                37765 non-null  int64  \n",
            " 71  calculated_host_listings_count_entire_homes   37765 non-null  int64  \n",
            " 72  calculated_host_listings_count_private_rooms  37765 non-null  int64  \n",
            " 73  calculated_host_listings_count_shared_rooms   37765 non-null  int64  \n",
            " 74  reviews_per_month                             26014 non-null  float64\n",
            "dtypes: float64(22), int64(17), object(36)\n",
            "memory usage: 21.6+ MB\n"
          ]
        }
      ],
      "source": [
        "listin.info()"
      ]
    },
    {
      "cell_type": "code",
      "source": [
        "\n",
        "listin['calendar_last_scraped'] = pd.to_datetime(listin['calendar_last_scraped']).dt.date"
      ],
      "metadata": {
        "id": "q6KR5VJTZl85"
      },
      "id": "q6KR5VJTZl85",
      "execution_count": 119,
      "outputs": []
    },
    {
      "cell_type": "markdown",
      "source": [
        "Validamos que los registros de actualizacion de los alquileres por parte de los propietaros esten los mas actualizado posible"
      ],
      "metadata": {
        "id": "oQzOcSAdZ2J_"
      },
      "id": "oQzOcSAdZ2J_"
    },
    {
      "cell_type": "code",
      "source": [
        "listin['calendar_last_scraped'].max()"
      ],
      "metadata": {
        "colab": {
          "base_uri": "https://localhost:8080/"
        },
        "id": "GlVbucF1Zu_t",
        "outputId": "f4718b79-2bf2-4856-adcd-600b0e2b70db"
      },
      "id": "GlVbucF1Zu_t",
      "execution_count": 120,
      "outputs": [
        {
          "output_type": "execute_result",
          "data": {
            "text/plain": [
              "datetime.date(2024, 7, 6)"
            ]
          },
          "metadata": {},
          "execution_count": 120
        }
      ]
    },
    {
      "cell_type": "code",
      "source": [
        "listin['calendar_last_scraped'].min()"
      ],
      "metadata": {
        "colab": {
          "base_uri": "https://localhost:8080/"
        },
        "id": "9c2tCa4QZxz5",
        "outputId": "804554b2-b535-41c1-dec5-234c446b3bcd"
      },
      "id": "9c2tCa4QZxz5",
      "execution_count": 121,
      "outputs": [
        {
          "output_type": "execute_result",
          "data": {
            "text/plain": [
              "datetime.date(2024, 7, 5)"
            ]
          },
          "metadata": {},
          "execution_count": 121
        }
      ]
    },
    {
      "cell_type": "markdown",
      "source": [
        "#### 1. Analisamos el precio de arriendo por inmueble se le ajustara el formato y se le eliminaran precios que este por fuera de los percentiles ####"
      ],
      "metadata": {
        "id": "EKWFS4ahXeA1"
      },
      "id": "EKWFS4ahXeA1"
    },
    {
      "cell_type": "code",
      "execution_count": 122,
      "id": "e8cefb7e-af36-4eea-a5dc-5fa1e72ed533",
      "metadata": {
        "id": "e8cefb7e-af36-4eea-a5dc-5fa1e72ed533"
      },
      "outputs": [],
      "source": [
        "listin['price'] = listin['price'].replace({r'\\$':''}, regex=True).replace({r'\\,':''}, regex=True)\n",
        "listin['price'] = pd.to_numeric(listin['price'])"
      ]
    },
    {
      "cell_type": "code",
      "execution_count": 123,
      "id": "5f4ac101-14d6-4b7b-afc2-157b8e62c1a5",
      "metadata": {
        "id": "5f4ac101-14d6-4b7b-afc2-157b8e62c1a5",
        "outputId": "34b7a890-064b-4549-8115-95a5cd7003a9",
        "colab": {
          "base_uri": "https://localhost:8080/",
          "height": 335
        }
      },
      "outputs": [
        {
          "output_type": "execute_result",
          "data": {
            "text/plain": [
              "count     23044.000000\n",
              "mean        221.074900\n",
              "std         766.620992\n",
              "min           8.000000\n",
              "25%          86.000000\n",
              "50%         150.000000\n",
              "75%         250.000000\n",
              "max      100000.000000\n",
              "Name: price, dtype: float64"
            ],
            "text/html": [
              "<div>\n",
              "<style scoped>\n",
              "    .dataframe tbody tr th:only-of-type {\n",
              "        vertical-align: middle;\n",
              "    }\n",
              "\n",
              "    .dataframe tbody tr th {\n",
              "        vertical-align: top;\n",
              "    }\n",
              "\n",
              "    .dataframe thead th {\n",
              "        text-align: right;\n",
              "    }\n",
              "</style>\n",
              "<table border=\"1\" class=\"dataframe\">\n",
              "  <thead>\n",
              "    <tr style=\"text-align: right;\">\n",
              "      <th></th>\n",
              "      <th>price</th>\n",
              "    </tr>\n",
              "  </thead>\n",
              "  <tbody>\n",
              "    <tr>\n",
              "      <th>count</th>\n",
              "      <td>23044.000000</td>\n",
              "    </tr>\n",
              "    <tr>\n",
              "      <th>mean</th>\n",
              "      <td>221.074900</td>\n",
              "    </tr>\n",
              "    <tr>\n",
              "      <th>std</th>\n",
              "      <td>766.620992</td>\n",
              "    </tr>\n",
              "    <tr>\n",
              "      <th>min</th>\n",
              "      <td>8.000000</td>\n",
              "    </tr>\n",
              "    <tr>\n",
              "      <th>25%</th>\n",
              "      <td>86.000000</td>\n",
              "    </tr>\n",
              "    <tr>\n",
              "      <th>50%</th>\n",
              "      <td>150.000000</td>\n",
              "    </tr>\n",
              "    <tr>\n",
              "      <th>75%</th>\n",
              "      <td>250.000000</td>\n",
              "    </tr>\n",
              "    <tr>\n",
              "      <th>max</th>\n",
              "      <td>100000.000000</td>\n",
              "    </tr>\n",
              "  </tbody>\n",
              "</table>\n",
              "</div><br><label><b>dtype:</b> float64</label>"
            ]
          },
          "metadata": {},
          "execution_count": 123
        }
      ],
      "source": [
        "listin['price'].describe()"
      ]
    },
    {
      "cell_type": "code",
      "execution_count": 124,
      "id": "e06460c7-cc17-44b0-af2e-82069dd40f64",
      "metadata": {
        "id": "e06460c7-cc17-44b0-af2e-82069dd40f64",
        "outputId": "7ede8021-c20e-4066-cc24-a6dbb1502d11",
        "colab": {
          "base_uri": "https://localhost:8080/",
          "height": 450
        }
      },
      "outputs": [
        {
          "output_type": "execute_result",
          "data": {
            "text/plain": [
              "[]"
            ]
          },
          "metadata": {},
          "execution_count": 124
        },
        {
          "output_type": "display_data",
          "data": {
            "text/plain": [
              "<Figure size 2000x500 with 1 Axes>"
            ],
            "image/png": "[encoded data removed]"
          },
          "metadata": {}
        }
      ],
      "source": [
        "plt.figure(figsize=(20, 5))\n",
        "plt.hist(listin['price'], bins=30, edgecolor='black')\n",
        "plt.title(\"Price distribution\")\n",
        "plt.plot()"
      ]
    },
    {
      "cell_type": "markdown",
      "source": [
        "Se calculan los percentiles del precio y  se eliminan los registros que estan por fuera del rango para quitar lo rangos que esten por fuera"
      ],
      "metadata": {
        "id": "C4GHNsFnT86J"
      },
      "id": "C4GHNsFnT86J"
    },
    {
      "cell_type": "code",
      "source": [
        "#### eliminar por fuera de cuartiles\n",
        "Q1 = listin['price'].quantile(0.25)\n",
        "Q3 = listin['price'].quantile(0.93)\n",
        "print(Q1,Q3)\n",
        "IQR = Q3 - Q1\n",
        "print(IQR)\n",
        "limites_inf = Q1 - 1.5 * IQR\n",
        "limites_sup = Q3 + 1.5 * IQR\n",
        "print(limites_inf,limites_sup)\n",
        "listin = listin[(listin['price'] >= limites_inf) & (listin['price'] <= limites_sup)]"
      ],
      "metadata": {
        "colab": {
          "base_uri": "https://localhost:8080/"
        },
        "id": "qrMZFthnZWsg",
        "outputId": "a0e09572-9def-4961-d4ce-3fe8b8976cd6"
      },
      "id": "qrMZFthnZWsg",
      "execution_count": 125,
      "outputs": [
        {
          "output_type": "stream",
          "name": "stdout",
          "text": [
            "86.0 465.0\n",
            "379.0\n",
            "-482.5 1033.5\n"
          ]
        }
      ]
    },
    {
      "cell_type": "code",
      "source": [
        "listin['price'].describe()"
      ],
      "metadata": {
        "colab": {
          "base_uri": "https://localhost:8080/",
          "height": 335
        },
        "id": "thn_EFolMspe",
        "outputId": "6c902d61-c8b8-4647-daf6-a5f4fd49d84f"
      },
      "id": "thn_EFolMspe",
      "execution_count": 126,
      "outputs": [
        {
          "output_type": "execute_result",
          "data": {
            "text/plain": [
              "count    22753.000000\n",
              "mean       190.588406\n",
              "std        155.784440\n",
              "min          8.000000\n",
              "25%         85.000000\n",
              "50%        148.000000\n",
              "75%        249.000000\n",
              "max       1033.000000\n",
              "Name: price, dtype: float64"
            ],
            "text/html": [
              "<div>\n",
              "<style scoped>\n",
              "    .dataframe tbody tr th:only-of-type {\n",
              "        vertical-align: middle;\n",
              "    }\n",
              "\n",
              "    .dataframe tbody tr th {\n",
              "        vertical-align: top;\n",
              "    }\n",
              "\n",
              "    .dataframe thead th {\n",
              "        text-align: right;\n",
              "    }\n",
              "</style>\n",
              "<table border=\"1\" class=\"dataframe\">\n",
              "  <thead>\n",
              "    <tr style=\"text-align: right;\">\n",
              "      <th></th>\n",
              "      <th>price</th>\n",
              "    </tr>\n",
              "  </thead>\n",
              "  <tbody>\n",
              "    <tr>\n",
              "      <th>count</th>\n",
              "      <td>22753.000000</td>\n",
              "    </tr>\n",
              "    <tr>\n",
              "      <th>mean</th>\n",
              "      <td>190.588406</td>\n",
              "    </tr>\n",
              "    <tr>\n",
              "      <th>std</th>\n",
              "      <td>155.784440</td>\n",
              "    </tr>\n",
              "    <tr>\n",
              "      <th>min</th>\n",
              "      <td>8.000000</td>\n",
              "    </tr>\n",
              "    <tr>\n",
              "      <th>25%</th>\n",
              "      <td>85.000000</td>\n",
              "    </tr>\n",
              "    <tr>\n",
              "      <th>50%</th>\n",
              "      <td>148.000000</td>\n",
              "    </tr>\n",
              "    <tr>\n",
              "      <th>75%</th>\n",
              "      <td>249.000000</td>\n",
              "    </tr>\n",
              "    <tr>\n",
              "      <th>max</th>\n",
              "      <td>1033.000000</td>\n",
              "    </tr>\n",
              "  </tbody>\n",
              "</table>\n",
              "</div><br><label><b>dtype:</b> float64</label>"
            ]
          },
          "metadata": {},
          "execution_count": 126
        }
      ]
    },
    {
      "cell_type": "code",
      "source": [
        "plt.figure(figsize=(20, 5))\n",
        "plt.hist(listin['price'], bins=30, edgecolor='black')\n",
        "plt.title(\"Price distribution\")\n",
        "plt.plot()"
      ],
      "metadata": {
        "colab": {
          "base_uri": "https://localhost:8080/",
          "height": 452
        },
        "id": "R2NDkoRZ8hMJ",
        "outputId": "bef274ae-9897-4f5d-afee-6c22325d9e02"
      },
      "id": "R2NDkoRZ8hMJ",
      "execution_count": 127,
      "outputs": [
        {
          "output_type": "execute_result",
          "data": {
            "text/plain": [
              "[]"
            ]
          },
          "metadata": {},
          "execution_count": 127
        },
        {
          "output_type": "display_data",
          "data": {
            "text/plain": [
              "<Figure size 2000x500 with 1 Axes>"
            ],
            "image/png": "[encoded data removed]"
          },
          "metadata": {}
        }
      ]
    },
    {
      "cell_type": "markdown",
      "source": [
        "#### 2.Analisamos el tipo de habitacion, ya quer consideramos que puede ser un distintivo a la hora de tomar la decision de arriendo"
      ],
      "metadata": {
        "id": "DDbvmvs2Xtvu"
      },
      "id": "DDbvmvs2Xtvu"
    },
    {
      "cell_type": "code",
      "source": [
        "frecuencias = listin['room_type'].value_counts()\n",
        "print(frecuencias)"
      ],
      "metadata": {
        "colab": {
          "base_uri": "https://localhost:8080/"
        },
        "id": "WLIzKWa3GyN3",
        "outputId": "01683188-5093-4b48-b09d-f8bb86483b31"
      },
      "id": "WLIzKWa3GyN3",
      "execution_count": 128,
      "outputs": [
        {
          "output_type": "stream",
          "name": "stdout",
          "text": [
            "room_type\n",
            "Entire home/apt    12508\n",
            "Private room        9647\n",
            "Shared room          333\n",
            "Hotel room           265\n",
            "Name: count, dtype: int64\n"
          ]
        }
      ]
    },
    {
      "cell_type": "code",
      "source": [
        "porcentajes = listin['room_type'].value_counts(normalize=True) * 100\n",
        "print(porcentajes)"
      ],
      "metadata": {
        "colab": {
          "base_uri": "https://localhost:8080/"
        },
        "id": "cv7buvmLG4KR",
        "outputId": "96ce6950-6815-487e-85db-63813dd25e08"
      },
      "id": "cv7buvmLG4KR",
      "execution_count": 129,
      "outputs": [
        {
          "output_type": "stream",
          "name": "stdout",
          "text": [
            "room_type\n",
            "Entire home/apt    54.972971\n",
            "Private room       42.398805\n",
            "Shared room         1.463543\n",
            "Hotel room          1.164682\n",
            "Name: proportion, dtype: float64\n"
          ]
        }
      ]
    },
    {
      "cell_type": "code",
      "source": [
        "listin['room_type'].value_counts().plot(kind='bar')\n",
        "plt.xlabel('Categorías')\n",
        "plt.ylabel('Frecuencia')\n",
        "plt.xticks(rotation=45)\n",
        "plt.show()"
      ],
      "metadata": {
        "colab": {
          "base_uri": "https://localhost:8080/",
          "height": 525
        },
        "id": "VOxsmv-KkMNW",
        "outputId": "3ea4dadf-0df2-4d04-e717-962f7ff14e05"
      },
      "id": "VOxsmv-KkMNW",
      "execution_count": 130,
      "outputs": [
        {
          "output_type": "display_data",
          "data": {
            "text/plain": [
              "<Figure size 640x480 with 1 Axes>"
            ],
            "image/png": "[encoded data removed]"
          },
          "metadata": {}
        }
      ]
    },
    {
      "cell_type": "markdown",
      "source": [
        "#### 3. Analisamos el numero de reseñas que tiene cada uno de los apartamentos para validar si esto influye en las personas al momento de reservar.\n"
      ],
      "metadata": {
        "id": "flZPiX_GX_2j"
      },
      "id": "flZPiX_GX_2j"
    },
    {
      "cell_type": "code",
      "source": [
        "\n",
        "listin['number_of_reviews'].describe()"
      ],
      "metadata": {
        "colab": {
          "base_uri": "https://localhost:8080/",
          "height": 335
        },
        "id": "5Xa5FCEjR1XZ",
        "outputId": "a96a1728-3295-447f-d023-7f2b258d2d3a"
      },
      "id": "5Xa5FCEjR1XZ",
      "execution_count": 131,
      "outputs": [
        {
          "output_type": "execute_result",
          "data": {
            "text/plain": [
              "count    22753.000000\n",
              "mean        32.966114\n",
              "std         69.918329\n",
              "min          0.000000\n",
              "25%          0.000000\n",
              "50%          6.000000\n",
              "75%         34.000000\n",
              "max       1915.000000\n",
              "Name: number_of_reviews, dtype: float64"
            ],
            "text/html": [
              "<div>\n",
              "<style scoped>\n",
              "    .dataframe tbody tr th:only-of-type {\n",
              "        vertical-align: middle;\n",
              "    }\n",
              "\n",
              "    .dataframe tbody tr th {\n",
              "        vertical-align: top;\n",
              "    }\n",
              "\n",
              "    .dataframe thead th {\n",
              "        text-align: right;\n",
              "    }\n",
              "</style>\n",
              "<table border=\"1\" class=\"dataframe\">\n",
              "  <thead>\n",
              "    <tr style=\"text-align: right;\">\n",
              "      <th></th>\n",
              "      <th>number_of_reviews</th>\n",
              "    </tr>\n",
              "  </thead>\n",
              "  <tbody>\n",
              "    <tr>\n",
              "      <th>count</th>\n",
              "      <td>22753.000000</td>\n",
              "    </tr>\n",
              "    <tr>\n",
              "      <th>mean</th>\n",
              "      <td>32.966114</td>\n",
              "    </tr>\n",
              "    <tr>\n",
              "      <th>std</th>\n",
              "      <td>69.918329</td>\n",
              "    </tr>\n",
              "    <tr>\n",
              "      <th>min</th>\n",
              "      <td>0.000000</td>\n",
              "    </tr>\n",
              "    <tr>\n",
              "      <th>25%</th>\n",
              "      <td>0.000000</td>\n",
              "    </tr>\n",
              "    <tr>\n",
              "      <th>50%</th>\n",
              "      <td>6.000000</td>\n",
              "    </tr>\n",
              "    <tr>\n",
              "      <th>75%</th>\n",
              "      <td>34.000000</td>\n",
              "    </tr>\n",
              "    <tr>\n",
              "      <th>max</th>\n",
              "      <td>1915.000000</td>\n",
              "    </tr>\n",
              "  </tbody>\n",
              "</table>\n",
              "</div><br><label><b>dtype:</b> float64</label>"
            ]
          },
          "metadata": {},
          "execution_count": 131
        }
      ]
    },
    {
      "cell_type": "code",
      "source": [
        "plt.figure(figsize=(20, 5))\n",
        "plt.hist(listin['number_of_reviews'], bins=30, edgecolor='black')\n",
        "plt.title(\"Price distribution\")\n",
        "plt.plot()"
      ],
      "metadata": {
        "colab": {
          "base_uri": "https://localhost:8080/",
          "height": 447
        },
        "id": "p0UW2WSyUP07",
        "outputId": "a5312c93-1f67-401d-b1a6-65a195364e8b"
      },
      "id": "p0UW2WSyUP07",
      "execution_count": 132,
      "outputs": [
        {
          "output_type": "execute_result",
          "data": {
            "text/plain": [
              "[]"
            ]
          },
          "metadata": {},
          "execution_count": 132
        },
        {
          "output_type": "display_data",
          "data": {
            "text/plain": [
              "<Figure size 2000x500 with 1 Axes>"
            ],
            "image/png": "[encoded data removed]"
          },
          "metadata": {}
        }
      ]
    },
    {
      "cell_type": "code",
      "source": [
        "Q1 = listin['number_of_reviews'].quantile(0.25)\n",
        "Q3 = listin['number_of_reviews'].quantile(0.90)\n",
        "print(Q1,Q3)\n",
        "IQR = Q3 - Q1\n",
        "print(IQR)\n",
        "limites_inf = Q1 - 1.5 * IQR\n",
        "limites_sup = Q3 + 1.5 * IQR\n",
        "print(limites_inf,limites_sup)\n"
      ],
      "metadata": {
        "colab": {
          "base_uri": "https://localhost:8080/"
        },
        "id": "dlJuLLcwWTxL",
        "outputId": "91efe139-b698-47a6-c46d-22ea5506276b"
      },
      "id": "dlJuLLcwWTxL",
      "execution_count": 133,
      "outputs": [
        {
          "output_type": "stream",
          "name": "stdout",
          "text": [
            "0.0 98.0\n",
            "98.0\n",
            "-147.0 245.0\n"
          ]
        }
      ]
    },
    {
      "cell_type": "markdown",
      "source": [
        "###4.se analizara el sector de la ciudad para ver en que partes de la ciudad se generan mayores alquileres a un mejor precio"
      ],
      "metadata": {
        "id": "lSiVI-mZYOIi"
      },
      "id": "lSiVI-mZYOIi"
    },
    {
      "cell_type": "code",
      "source": [
        "frecuencias = listin['neighbourhood_group_cleansed'].value_counts()\n",
        "print(frecuencias)"
      ],
      "metadata": {
        "colab": {
          "base_uri": "https://localhost:8080/"
        },
        "id": "Hz6t49j2SAIZ",
        "outputId": "fdb189ea-d558-4e35-c8ef-ce6112120464"
      },
      "id": "Hz6t49j2SAIZ",
      "execution_count": 134,
      "outputs": [
        {
          "output_type": "stream",
          "name": "stdout",
          "text": [
            "neighbourhood_group_cleansed\n",
            "Manhattan        9761\n",
            "Brooklyn         7967\n",
            "Queens           3843\n",
            "Bronx             868\n",
            "Staten Island     314\n",
            "Name: count, dtype: int64\n"
          ]
        }
      ]
    },
    {
      "cell_type": "code",
      "source": [
        "porcentajes = listin['neighbourhood_group_cleansed'].value_counts(normalize=True) * 100\n",
        "print(porcentajes)"
      ],
      "metadata": {
        "colab": {
          "base_uri": "https://localhost:8080/"
        },
        "id": "VmKGXssIYp5-",
        "outputId": "bcf44cbe-4078-4e5b-f29b-24b45857ee44"
      },
      "id": "VmKGXssIYp5-",
      "execution_count": 135,
      "outputs": [
        {
          "output_type": "stream",
          "name": "stdout",
          "text": [
            "neighbourhood_group_cleansed\n",
            "Manhattan        42.899837\n",
            "Brooklyn         35.015163\n",
            "Queens           16.890080\n",
            "Bronx             3.814882\n",
            "Staten Island     1.380038\n",
            "Name: proportion, dtype: float64\n"
          ]
        }
      ]
    },
    {
      "cell_type": "code",
      "source": [
        "listin['neighbourhood_group_cleansed'].value_counts().plot(kind='bar')\n",
        "plt.xlabel('Categorías')\n",
        "plt.ylabel('Frecuencia')\n",
        "plt.xticks(rotation=45)\n",
        "plt.show()"
      ],
      "metadata": {
        "colab": {
          "base_uri": "https://localhost:8080/",
          "height": 510
        },
        "id": "ngkht7KSYye_",
        "outputId": "cc4696e3-656d-4f1e-e9ae-3ee80387129c"
      },
      "id": "ngkht7KSYye_",
      "execution_count": 136,
      "outputs": [
        {
          "output_type": "display_data",
          "data": {
            "text/plain": [
              "<Figure size 640x480 with 1 Axes>"
            ],
            "image/png": "[encoded data removed]"
          },
          "metadata": {}
        }
      ]
    },
    {
      "cell_type": "markdown",
      "source": [
        "5. Analizara el minimo de dias para reserva, con el fin de validar si esto afecta a la cantidad de reservas"
      ],
      "metadata": {
        "id": "9c-DgwsJZMy7"
      },
      "id": "9c-DgwsJZMy7"
    },
    {
      "cell_type": "code",
      "source": [
        "listin['minimum_nights'].describe()"
      ],
      "metadata": {
        "colab": {
          "base_uri": "https://localhost:8080/",
          "height": 335
        },
        "id": "_NWMRvEsw1sN",
        "outputId": "b39cefb9-8854-4558-cfe3-de6bdb631dbc"
      },
      "id": "_NWMRvEsw1sN",
      "execution_count": 137,
      "outputs": [
        {
          "output_type": "execute_result",
          "data": {
            "text/plain": [
              "count    22753.000000\n",
              "mean        27.027733\n",
              "std         22.189524\n",
              "min          1.000000\n",
              "25%         30.000000\n",
              "50%         30.000000\n",
              "75%         30.000000\n",
              "max        500.000000\n",
              "Name: minimum_nights, dtype: float64"
            ],
            "text/html": [
              "<div>\n",
              "<style scoped>\n",
              "    .dataframe tbody tr th:only-of-type {\n",
              "        vertical-align: middle;\n",
              "    }\n",
              "\n",
              "    .dataframe tbody tr th {\n",
              "        vertical-align: top;\n",
              "    }\n",
              "\n",
              "    .dataframe thead th {\n",
              "        text-align: right;\n",
              "    }\n",
              "</style>\n",
              "<table border=\"1\" class=\"dataframe\">\n",
              "  <thead>\n",
              "    <tr style=\"text-align: right;\">\n",
              "      <th></th>\n",
              "      <th>minimum_nights</th>\n",
              "    </tr>\n",
              "  </thead>\n",
              "  <tbody>\n",
              "    <tr>\n",
              "      <th>count</th>\n",
              "      <td>22753.000000</td>\n",
              "    </tr>\n",
              "    <tr>\n",
              "      <th>mean</th>\n",
              "      <td>27.027733</td>\n",
              "    </tr>\n",
              "    <tr>\n",
              "      <th>std</th>\n",
              "      <td>22.189524</td>\n",
              "    </tr>\n",
              "    <tr>\n",
              "      <th>min</th>\n",
              "      <td>1.000000</td>\n",
              "    </tr>\n",
              "    <tr>\n",
              "      <th>25%</th>\n",
              "      <td>30.000000</td>\n",
              "    </tr>\n",
              "    <tr>\n",
              "      <th>50%</th>\n",
              "      <td>30.000000</td>\n",
              "    </tr>\n",
              "    <tr>\n",
              "      <th>75%</th>\n",
              "      <td>30.000000</td>\n",
              "    </tr>\n",
              "    <tr>\n",
              "      <th>max</th>\n",
              "      <td>500.000000</td>\n",
              "    </tr>\n",
              "  </tbody>\n",
              "</table>\n",
              "</div><br><label><b>dtype:</b> float64</label>"
            ]
          },
          "metadata": {},
          "execution_count": 137
        }
      ]
    },
    {
      "cell_type": "code",
      "source": [
        "plt.figure(figsize=(20, 5))\n",
        "plt.hist(listin['minimum_nights'], bins=30, edgecolor='black')\n",
        "plt.title(\"Minimum Nights distribution\")\n",
        "plt.plot()"
      ],
      "metadata": {
        "colab": {
          "base_uri": "https://localhost:8080/",
          "height": 450
        },
        "id": "5NXfTEHRw7sw",
        "outputId": "0858b531-f699-4055-9dc9-04044f3c709a"
      },
      "id": "5NXfTEHRw7sw",
      "execution_count": 138,
      "outputs": [
        {
          "output_type": "execute_result",
          "data": {
            "text/plain": [
              "[]"
            ]
          },
          "metadata": {},
          "execution_count": 138
        },
        {
          "output_type": "display_data",
          "data": {
            "text/plain": [
              "<Figure size 2000x500 with 1 Axes>"
            ],
            "image/png": "[encoded data removed]"
          },
          "metadata": {}
        }
      ]
    },
    {
      "cell_type": "code",
      "source": [
        "Q1 = listin['minimum_nights'].quantile(0.15)\n",
        "Q3 = listin['minimum_nights'].quantile(0.95)\n",
        "print(Q1,Q3)\n",
        "IQR = Q3 - Q1\n",
        "print(IQR)\n",
        "limites_inf = Q1 - 1.5 * IQR\n",
        "limites_sup = Q3 + 1.5 * IQR\n",
        "print(limites_inf,limites_sup)\n",
        "listin = listin[(listin['minimum_nights'] >= limites_inf) & (listin['minimum_nights'] <= limites_sup)]"
      ],
      "metadata": {
        "colab": {
          "base_uri": "https://localhost:8080/"
        },
        "id": "gCMS-jaExCpM",
        "outputId": "9c0e128e-b1ae-4912-af87-712e3d4039a3"
      },
      "id": "gCMS-jaExCpM",
      "execution_count": 139,
      "outputs": [
        {
          "output_type": "stream",
          "name": "stdout",
          "text": [
            "3.0 31.0\n",
            "28.0\n",
            "-39.0 73.0\n"
          ]
        }
      ]
    },
    {
      "cell_type": "code",
      "source": [
        "plt.figure(figsize=(20, 5))\n",
        "plt.hist(listin['minimum_nights'], bins=30, edgecolor='black')\n",
        "plt.title(\"Minimum Nights distribution\")\n",
        "plt.plot()"
      ],
      "metadata": {
        "colab": {
          "base_uri": "https://localhost:8080/",
          "height": 450
        },
        "id": "Uai9mXarxqDP",
        "outputId": "4acd631b-1646-4119-925b-81400a4c9088"
      },
      "id": "Uai9mXarxqDP",
      "execution_count": 140,
      "outputs": [
        {
          "output_type": "execute_result",
          "data": {
            "text/plain": [
              "[]"
            ]
          },
          "metadata": {},
          "execution_count": 140
        },
        {
          "output_type": "display_data",
          "data": {
            "text/plain": [
              "<Figure size 2000x500 with 1 Axes>"
            ],
            "image/png": "[encoded data removed]"
          },
          "metadata": {}
        }
      ]
    },
    {
      "cell_type": "code",
      "source": [
        "listin.head()"
      ],
      "metadata": {
        "colab": {
          "base_uri": "https://localhost:8080/",
          "height": 608
        },
        "id": "b0QBCv9hY90q",
        "outputId": "f2c2a441-168f-4526-b51a-ebdcb78e23ed"
      },
      "id": "b0QBCv9hY90q",
      "execution_count": 141,
      "outputs": [
        {
          "output_type": "execute_result",
          "data": {
            "text/plain": [
              "     id                        listing_url       scrape_id last_scraped  \\\n",
              "1  5136  https://www.airbnb.com/rooms/5136  20240705150938   2024-07-05   \n",
              "2  6848  https://www.airbnb.com/rooms/6848  20240705150938   2024-07-06   \n",
              "3  6872  https://www.airbnb.com/rooms/6872  20240705150938   2024-07-05   \n",
              "4  6990  https://www.airbnb.com/rooms/6990  20240705150938   2024-07-06   \n",
              "6  7097  https://www.airbnb.com/rooms/7097  20240705150938   2024-07-05   \n",
              "\n",
              "        source                                               name  \\\n",
              "1  city scrape    Spacious Family Friendly Duplex w/ Patio + Yard   \n",
              "2  city scrape                   Only 2 stops to Manhattan studio   \n",
              "3  city scrape  Uptown Sanctuary w/ Private Bath (Month to Month)   \n",
              "4  city scrape                            UES Beautiful Blue Room   \n",
              "6  city scrape      Perfect for Your Parents, With Garden & Patio   \n",
              "\n",
              "                                         description  \\\n",
              "1  We welcome you to stay in our lovely 2 br, 130...   \n",
              "2  Comfortable studio apartment with super comfor...   \n",
              "3  A charming month-to-month home away from home ...   \n",
              "4                    Beautiful peaceful healthy home   \n",
              "6  Parents/grandparents coming to town or are you...   \n",
              "\n",
              "                               neighborhood_overview  \\\n",
              "1                                                NaN   \n",
              "2                                                NaN   \n",
              "3  This sweet Harlem sanctuary is a 10-20 minute ...   \n",
              "4  Location: Five minutes to Central Park, Museum...   \n",
              "6  Residential, village-like atmosphere. Lots of ...   \n",
              "\n",
              "                                         picture_url  host_id  \\\n",
              "1  https://a0.muscache.com/pictures/miso/Hosting-...     7378   \n",
              "2  https://a0.muscache.com/pictures/e4f031a7-f146...    15991   \n",
              "3  https://a0.muscache.com/pictures/miso/Hosting-...    16104   \n",
              "4  https://a0.muscache.com/pictures/be6cd5b3-9295...    16800   \n",
              "6  https://a0.muscache.com/pictures/aaac19fc-4b4d...    17571   \n",
              "\n",
              "                                  host_url      host_name  host_since  \\\n",
              "1   https://www.airbnb.com/users/show/7378        Rebecca  2009-02-03   \n",
              "2  https://www.airbnb.com/users/show/15991  Allen & Irina  2009-05-06   \n",
              "3  https://www.airbnb.com/users/show/16104            Kae  2009-05-07   \n",
              "4  https://www.airbnb.com/users/show/16800            Cyn  2009-05-12   \n",
              "6  https://www.airbnb.com/users/show/17571           Jane  2009-05-17   \n",
              "\n",
              "  host_location                                         host_about  \\\n",
              "1  New York, NY  Rebecca is an artist/designer, and Henoch is i...   \n",
              "2  New York, NY  We love to travel. When we travel we like to s...   \n",
              "3  New York, NY  A former life in fashion and wellness has left...   \n",
              "4  New York, NY  Capturing the Steinbeck side of life in its Fi...   \n",
              "6  New York, NY  I appreciate visitors and know New York well, ...   \n",
              "\n",
              "  host_response_time host_response_rate host_acceptance_rate  \\\n",
              "1     within an hour               100%                 100%   \n",
              "2     within an hour               100%                 100%   \n",
              "3       within a day                50%                   0%   \n",
              "4     within an hour               100%                 100%   \n",
              "6     within an hour               100%                 100%   \n",
              "\n",
              "  host_is_superhost                                 host_thumbnail_url  \\\n",
              "1                 f  https://a0.muscache.com/im/users/7378/profile_...   \n",
              "2                 t  https://a0.muscache.com/im/users/15991/profile...   \n",
              "3                 f  https://a0.muscache.com/im/pictures/user/d865a...   \n",
              "4                 t  https://a0.muscache.com/im/pictures/user/17c4d...   \n",
              "6                 t  https://a0.muscache.com/im/pictures/user/18480...   \n",
              "\n",
              "                                    host_picture_url host_neighbourhood  \\\n",
              "1  https://a0.muscache.com/im/users/7378/profile_...  Greenwood Heights   \n",
              "2  https://a0.muscache.com/im/users/15991/profile...       Williamsburg   \n",
              "3  https://a0.muscache.com/im/pictures/user/d865a...        East Harlem   \n",
              "4  https://a0.muscache.com/im/pictures/user/17c4d...        East Harlem   \n",
              "6  https://a0.muscache.com/im/pictures/user/18480...        Fort Greene   \n",
              "\n",
              "   host_listings_count  host_total_listings_count  \\\n",
              "1                  1.0                        5.0   \n",
              "2                  1.0                        1.0   \n",
              "3                  2.0                        2.0   \n",
              "4                  1.0                        6.0   \n",
              "6                  2.0                        2.0   \n",
              "\n",
              "                 host_verifications host_has_profile_pic  \\\n",
              "1                ['email', 'phone']                    t   \n",
              "2                ['email', 'phone']                    t   \n",
              "3  ['email', 'phone', 'work_email']                    t   \n",
              "4                ['email', 'phone']                    t   \n",
              "6                ['email', 'phone']                    t   \n",
              "\n",
              "  host_identity_verified            neighbourhood neighbourhood_cleansed  \\\n",
              "1                      t                      NaN            Sunset Park   \n",
              "2                      t                      NaN           Williamsburg   \n",
              "3                      t  Neighborhood highlights            East Harlem   \n",
              "4                      t  Neighborhood highlights            East Harlem   \n",
              "6                      t  Neighborhood highlights            Fort Greene   \n",
              "\n",
              "  neighbourhood_group_cleansed  latitude  longitude  \\\n",
              "1                     Brooklyn  40.66265  -73.99454   \n",
              "2                     Brooklyn  40.70935  -73.95342   \n",
              "3                    Manhattan  40.80107  -73.94255   \n",
              "4                    Manhattan  40.78778  -73.94759   \n",
              "6                     Brooklyn  40.69194  -73.97389   \n",
              "\n",
              "                 property_type        room_type  accommodates  bathrooms  \\\n",
              "1           Entire rental unit  Entire home/apt             4        1.5   \n",
              "2           Entire rental unit  Entire home/apt             3        1.0   \n",
              "3        Private room in condo     Private room             1        1.0   \n",
              "4  Private room in rental unit     Private room             1        1.0   \n",
              "6  Private room in guest suite     Private room             2        1.0   \n",
              "\n",
              "   bathrooms_text  bedrooms  beds  \\\n",
              "1       1.5 baths       2.0   2.0   \n",
              "2          1 bath       2.0   1.0   \n",
              "3   1 shared bath       1.0   1.0   \n",
              "4   1 shared bath       1.0   1.0   \n",
              "6  1 private bath       1.0   2.0   \n",
              "\n",
              "                                           amenities  price  minimum_nights  \\\n",
              "1  [\"Smoke alarm\", \"Heating\", \"Dryer\", \"Bed linen...  215.0              30   \n",
              "2  [\"Smoke alarm\", \"Heating\", \"Bed linens\", \"Oven...   81.0              30   \n",
              "3  [\"Smoke alarm\", \"Fire extinguisher\", \"Heating\"...   65.0              30   \n",
              "4  [\"Smoke alarm\", \"Fire extinguisher\", \"Heating\"...   65.0              30   \n",
              "6  [\"Smoke alarm\", \"Heating\", \"Central air condit...  205.0               2   \n",
              "\n",
              "   maximum_nights  minimum_minimum_nights  maximum_minimum_nights  \\\n",
              "1             730                    30.0                    30.0   \n",
              "2             730                    30.0                    30.0   \n",
              "3             180                    30.0                    30.0   \n",
              "4             365                    30.0                    30.0   \n",
              "6            1125                     2.0                     2.0   \n",
              "\n",
              "   minimum_maximum_nights  maximum_maximum_nights  minimum_nights_avg_ntm  \\\n",
              "1                   730.0                   730.0                    30.0   \n",
              "2                  1125.0                  1125.0                    30.0   \n",
              "3                   180.0                   180.0                    30.0   \n",
              "4                   365.0                   365.0                    30.0   \n",
              "6                  1125.0                  1125.0                     2.0   \n",
              "\n",
              "   maximum_nights_avg_ntm  calendar_updated has_availability  availability_30  \\\n",
              "1                   730.0               NaN                t                2   \n",
              "2                  1125.0               NaN                t                0   \n",
              "3                   180.0               NaN                t               30   \n",
              "4                   365.0               NaN                t                2   \n",
              "6                  1125.0               NaN                t                5   \n",
              "\n",
              "   availability_60  availability_90  availability_365 calendar_last_scraped  \\\n",
              "1               11               11                71            2024-07-05   \n",
              "2                5                5               193            2024-07-06   \n",
              "3               60               90               365            2024-07-05   \n",
              "4                6                6               212            2024-07-06   \n",
              "6                9               12               219            2024-07-05   \n",
              "\n",
              "   number_of_reviews  number_of_reviews_ltm  number_of_reviews_l30d  \\\n",
              "1                  4                      1                       0   \n",
              "2                193                      3                       0   \n",
              "3                  1                      0                       0   \n",
              "4                247                      2                       0   \n",
              "6                374                     36                       0   \n",
              "\n",
              "  first_review last_review  review_scores_rating  review_scores_accuracy  \\\n",
              "1   2014-01-02  2023-08-20                  4.75                    4.75   \n",
              "2   2009-05-25  2024-05-18                  4.58                    4.59   \n",
              "3   2022-06-05  2022-06-05                  5.00                    5.00   \n",
              "4   2009-10-28  2024-03-06                  4.88                    4.83   \n",
              "6   2010-01-16  2024-06-02                  4.89                    4.91   \n",
              "\n",
              "   review_scores_cleanliness  review_scores_checkin  \\\n",
              "1                       4.50                   5.00   \n",
              "2                       4.86                   4.85   \n",
              "3                       5.00                   5.00   \n",
              "4                       4.96                   4.96   \n",
              "6                       4.89                   4.96   \n",
              "\n",
              "   review_scores_communication  review_scores_location  review_scores_value  \\\n",
              "1                         5.00                    4.75                 4.75   \n",
              "2                         4.80                    4.68                 4.57   \n",
              "3                         5.00                    5.00                 5.00   \n",
              "4                         4.95                    4.85                 4.84   \n",
              "6                         4.93                    4.94                 4.82   \n",
              "\n",
              "              license instant_bookable  calculated_host_listings_count  \\\n",
              "1                 NaN                t                               1   \n",
              "2                 NaN                f                               1   \n",
              "3                 NaN                f                               2   \n",
              "4                 NaN                f                               1   \n",
              "6  OSE-STRREG-0000008                t                               2   \n",
              "\n",
              "   calculated_host_listings_count_entire_homes  \\\n",
              "1                                            1   \n",
              "2                                            1   \n",
              "3                                            0   \n",
              "4                                            0   \n",
              "6                                            0   \n",
              "\n",
              "   calculated_host_listings_count_private_rooms  \\\n",
              "1                                             0   \n",
              "2                                             0   \n",
              "3                                             2   \n",
              "4                                             1   \n",
              "6                                             2   \n",
              "\n",
              "   calculated_host_listings_count_shared_rooms  reviews_per_month  \n",
              "1                                            0               0.03  \n",
              "2                                            0               1.05  \n",
              "3                                            0               0.04  \n",
              "4                                            0               1.38  \n",
              "6                                            0               2.12  "
            ],
            "text/html": [
              "\n",
              "  <div id=\"df-bacbc618-ab72-4b37-bfc4-c1c8762a8b79\" class=\"colab-df-container\">\n",
              "    <div>\n",
              "<style scoped>\n",
              "    .dataframe tbody tr th:only-of-type {\n",
              "        vertical-align: middle;\n",
              "    }\n",
              "\n",
              "    .dataframe tbody tr th {\n",
              "        vertical-align: top;\n",
              "    }\n",
              "\n",
              "    .dataframe thead th {\n",
              "        text-align: right;\n",
              "    }\n",
              "</style>\n",
              "<table border=\"1\" class=\"dataframe\">\n",
              "  <thead>\n",
              "    <tr style=\"text-align: right;\">\n",
              "      <th></th>\n",
              "      <th>id</th>\n",
              "      <th>listing_url</th>\n",
              "      <th>scrape_id</th>\n",
              "      <th>last_scraped</th>\n",
              "      <th>source</th>\n",
              "      <th>name</th>\n",
              "      <th>description</th>\n",
              "      <th>neighborhood_overview</th>\n",
              "      <th>picture_url</th>\n",
              "      <th>host_id</th>\n",
              "      <th>host_url</th>\n",
              "      <th>host_name</th>\n",
              "      <th>host_since</th>\n",
              "      <th>host_location</th>\n",
              "      <th>host_about</th>\n",
              "      <th>host_response_time</th>\n",
              "      <th>host_response_rate</th>\n",
              "      <th>host_acceptance_rate</th>\n",
              "      <th>host_is_superhost</th>\n",
              "      <th>host_thumbnail_url</th>\n",
              "      <th>host_picture_url</th>\n",
              "      <th>host_neighbourhood</th>\n",
              "      <th>host_listings_count</th>\n",
              "      <th>host_total_listings_count</th>\n",
              "      <th>host_verifications</th>\n",
              "      <th>host_has_profile_pic</th>\n",
              "      <th>host_identity_verified</th>\n",
              "      <th>neighbourhood</th>\n",
              "      <th>neighbourhood_cleansed</th>\n",
              "      <th>neighbourhood_group_cleansed</th>\n",
              "      <th>latitude</th>\n",
              "      <th>longitude</th>\n",
              "      <th>property_type</th>\n",
              "      <th>room_type</th>\n",
              "      <th>accommodates</th>\n",
              "      <th>bathrooms</th>\n",
              "      <th>bathrooms_text</th>\n",
              "      <th>bedrooms</th>\n",
              "      <th>beds</th>\n",
              "      <th>amenities</th>\n",
              "      <th>price</th>\n",
              "      <th>minimum_nights</th>\n",
              "      <th>maximum_nights</th>\n",
              "      <th>minimum_minimum_nights</th>\n",
              "      <th>maximum_minimum_nights</th>\n",
              "      <th>minimum_maximum_nights</th>\n",
              "      <th>maximum_maximum_nights</th>\n",
              "      <th>minimum_nights_avg_ntm</th>\n",
              "      <th>maximum_nights_avg_ntm</th>\n",
              "      <th>calendar_updated</th>\n",
              "      <th>has_availability</th>\n",
              "      <th>availability_30</th>\n",
              "      <th>availability_60</th>\n",
              "      <th>availability_90</th>\n",
              "      <th>availability_365</th>\n",
              "      <th>calendar_last_scraped</th>\n",
              "      <th>number_of_reviews</th>\n",
              "      <th>number_of_reviews_ltm</th>\n",
              "      <th>number_of_reviews_l30d</th>\n",
              "      <th>first_review</th>\n",
              "      <th>last_review</th>\n",
              "      <th>review_scores_rating</th>\n",
              "      <th>review_scores_accuracy</th>\n",
              "      <th>review_scores_cleanliness</th>\n",
              "      <th>review_scores_checkin</th>\n",
              "      <th>review_scores_communication</th>\n",
              "      <th>review_scores_location</th>\n",
              "      <th>review_scores_value</th>\n",
              "      <th>license</th>\n",
              "      <th>instant_bookable</th>\n",
              "      <th>calculated_host_listings_count</th>\n",
              "      <th>calculated_host_listings_count_entire_homes</th>\n",
              "      <th>calculated_host_listings_count_private_rooms</th>\n",
              "      <th>calculated_host_listings_count_shared_rooms</th>\n",
              "      <th>reviews_per_month</th>\n",
              "    </tr>\n",
              "  </thead>\n",
              "  <tbody>\n",
              "    <tr>\n",
              "      <th>1</th>\n",
              "      <td>5136</td>\n",
              "      <td>https://www.airbnb.com/rooms/5136</td>\n",
              "      <td>20240705150938</td>\n",
              "      <td>2024-07-05</td>\n",
              "      <td>city scrape</td>\n",
              "      <td>Spacious Family Friendly Duplex w/ Patio + Yard</td>\n",
              "      <td>We welcome you to stay in our lovely 2 br, 130...</td>\n",
              "      <td>NaN</td>\n",
              "      <td>https://a0.muscache.com/pictures/miso/Hosting-...</td>\n",
              "      <td>7378</td>\n",
              "      <td>https://www.airbnb.com/users/show/7378</td>\n",
              "      <td>Rebecca</td>\n",
              "      <td>2009-02-03</td>\n",
              "      <td>New York, NY</td>\n",
              "      <td>Rebecca is an artist/designer, and Henoch is i...</td>\n",
              "      <td>within an hour</td>\n",
              "      <td>100%</td>\n",
              "      <td>100%</td>\n",
              "      <td>f</td>\n",
              "      <td>https://a0.muscache.com/im/users/7378/profile_...</td>\n",
              "      <td>https://a0.muscache.com/im/users/7378/profile_...</td>\n",
              "      <td>Greenwood Heights</td>\n",
              "      <td>1.0</td>\n",
              "      <td>5.0</td>\n",
              "      <td>['email', 'phone']</td>\n",
              "      <td>t</td>\n",
              "      <td>t</td>\n",
              "      <td>NaN</td>\n",
              "      <td>Sunset Park</td>\n",
              "      <td>Brooklyn</td>\n",
              "      <td>40.66265</td>\n",
              "      <td>-73.99454</td>\n",
              "      <td>Entire rental unit</td>\n",
              "      <td>Entire home/apt</td>\n",
              "      <td>4</td>\n",
              "      <td>1.5</td>\n",
              "      <td>1.5 baths</td>\n",
              "      <td>2.0</td>\n",
              "      <td>2.0</td>\n",
              "      <td>[\"Smoke alarm\", \"Heating\", \"Dryer\", \"Bed linen...</td>\n",
              "      <td>215.0</td>\n",
              "      <td>30</td>\n",
              "      <td>730</td>\n",
              "      <td>30.0</td>\n",
              "      <td>30.0</td>\n",
              "      <td>730.0</td>\n",
              "      <td>730.0</td>\n",
              "      <td>30.0</td>\n",
              "      <td>730.0</td>\n",
              "      <td>NaN</td>\n",
              "      <td>t</td>\n",
              "      <td>2</td>\n",
              "      <td>11</td>\n",
              "      <td>11</td>\n",
              "      <td>71</td>\n",
              "      <td>2024-07-05</td>\n",
              "      <td>4</td>\n",
              "      <td>1</td>\n",
              "      <td>0</td>\n",
              "      <td>2014-01-02</td>\n",
              "      <td>2023-08-20</td>\n",
              "      <td>4.75</td>\n",
              "      <td>4.75</td>\n",
              "      <td>4.50</td>\n",
              "      <td>5.00</td>\n",
              "      <td>5.00</td>\n",
              "      <td>4.75</td>\n",
              "      <td>4.75</td>\n",
              "      <td>NaN</td>\n",
              "      <td>t</td>\n",
              "      <td>1</td>\n",
              "      <td>1</td>\n",
              "      <td>0</td>\n",
              "      <td>0</td>\n",
              "      <td>0.03</td>\n",
              "    </tr>\n",
              "    <tr>\n",
              "      <th>2</th>\n",
              "      <td>6848</td>\n",
              "      <td>https://www.airbnb.com/rooms/6848</td>\n",
              "      <td>20240705150938</td>\n",
              "      <td>2024-07-06</td>\n",
              "      <td>city scrape</td>\n",
              "      <td>Only 2 stops to Manhattan studio</td>\n",
              "      <td>Comfortable studio apartment with super comfor...</td>\n",
              "      <td>NaN</td>\n",
              "      <td>https://a0.muscache.com/pictures/e4f031a7-f146...</td>\n",
              "      <td>15991</td>\n",
              "      <td>https://www.airbnb.com/users/show/15991</td>\n",
              "      <td>Allen &amp; Irina</td>\n",
              "      <td>2009-05-06</td>\n",
              "      <td>New York, NY</td>\n",
              "      <td>We love to travel. When we travel we like to s...</td>\n",
              "      <td>within an hour</td>\n",
              "      <td>100%</td>\n",
              "      <td>100%</td>\n",
              "      <td>t</td>\n",
              "      <td>https://a0.muscache.com/im/users/15991/profile...</td>\n",
              "      <td>https://a0.muscache.com/im/users/15991/profile...</td>\n",
              "      <td>Williamsburg</td>\n",
              "      <td>1.0</td>\n",
              "      <td>1.0</td>\n",
              "      <td>['email', 'phone']</td>\n",
              "      <td>t</td>\n",
              "      <td>t</td>\n",
              "      <td>NaN</td>\n",
              "      <td>Williamsburg</td>\n",
              "      <td>Brooklyn</td>\n",
              "      <td>40.70935</td>\n",
              "      <td>-73.95342</td>\n",
              "      <td>Entire rental unit</td>\n",
              "      <td>Entire home/apt</td>\n",
              "      <td>3</td>\n",
              "      <td>1.0</td>\n",
              "      <td>1 bath</td>\n",
              "      <td>2.0</td>\n",
              "      <td>1.0</td>\n",
              "      <td>[\"Smoke alarm\", \"Heating\", \"Bed linens\", \"Oven...</td>\n",
              "      <td>81.0</td>\n",
              "      <td>30</td>\n",
              "      <td>730</td>\n",
              "      <td>30.0</td>\n",
              "      <td>30.0</td>\n",
              "      <td>1125.0</td>\n",
              "      <td>1125.0</td>\n",
              "      <td>30.0</td>\n",
              "      <td>1125.0</td>\n",
              "      <td>NaN</td>\n",
              "      <td>t</td>\n",
              "      <td>0</td>\n",
              "      <td>5</td>\n",
              "      <td>5</td>\n",
              "      <td>193</td>\n",
              "      <td>2024-07-06</td>\n",
              "      <td>193</td>\n",
              "      <td>3</td>\n",
              "      <td>0</td>\n",
              "      <td>2009-05-25</td>\n",
              "      <td>2024-05-18</td>\n",
              "      <td>4.58</td>\n",
              "      <td>4.59</td>\n",
              "      <td>4.86</td>\n",
              "      <td>4.85</td>\n",
              "      <td>4.80</td>\n",
              "      <td>4.68</td>\n",
              "      <td>4.57</td>\n",
              "      <td>NaN</td>\n",
              "      <td>f</td>\n",
              "      <td>1</td>\n",
              "      <td>1</td>\n",
              "      <td>0</td>\n",
              "      <td>0</td>\n",
              "      <td>1.05</td>\n",
              "    </tr>\n",
              "    <tr>\n",
              "      <th>3</th>\n",
              "      <td>6872</td>\n",
              "      <td>https://www.airbnb.com/rooms/6872</td>\n",
              "      <td>20240705150938</td>\n",
              "      <td>2024-07-05</td>\n",
              "      <td>city scrape</td>\n",
              "      <td>Uptown Sanctuary w/ Private Bath (Month to Month)</td>\n",
              "      <td>A charming month-to-month home away from home ...</td>\n",
              "      <td>This sweet Harlem sanctuary is a 10-20 minute ...</td>\n",
              "      <td>https://a0.muscache.com/pictures/miso/Hosting-...</td>\n",
              "      <td>16104</td>\n",
              "      <td>https://www.airbnb.com/users/show/16104</td>\n",
              "      <td>Kae</td>\n",
              "      <td>2009-05-07</td>\n",
              "      <td>New York, NY</td>\n",
              "      <td>A former life in fashion and wellness has left...</td>\n",
              "      <td>within a day</td>\n",
              "      <td>50%</td>\n",
              "      <td>0%</td>\n",
              "      <td>f</td>\n",
              "      <td>https://a0.muscache.com/im/pictures/user/d865a...</td>\n",
              "      <td>https://a0.muscache.com/im/pictures/user/d865a...</td>\n",
              "      <td>East Harlem</td>\n",
              "      <td>2.0</td>\n",
              "      <td>2.0</td>\n",
              "      <td>['email', 'phone', 'work_email']</td>\n",
              "      <td>t</td>\n",
              "      <td>t</td>\n",
              "      <td>Neighborhood highlights</td>\n",
              "      <td>East Harlem</td>\n",
              "      <td>Manhattan</td>\n",
              "      <td>40.80107</td>\n",
              "      <td>-73.94255</td>\n",
              "      <td>Private room in condo</td>\n",
              "      <td>Private room</td>\n",
              "      <td>1</td>\n",
              "      <td>1.0</td>\n",
              "      <td>1 shared bath</td>\n",
              "      <td>1.0</td>\n",
              "      <td>1.0</td>\n",
              "      <td>[\"Smoke alarm\", \"Fire extinguisher\", \"Heating\"...</td>\n",
              "      <td>65.0</td>\n",
              "      <td>30</td>\n",
              "      <td>180</td>\n",
              "      <td>30.0</td>\n",
              "      <td>30.0</td>\n",
              "      <td>180.0</td>\n",
              "      <td>180.0</td>\n",
              "      <td>30.0</td>\n",
              "      <td>180.0</td>\n",
              "      <td>NaN</td>\n",
              "      <td>t</td>\n",
              "      <td>30</td>\n",
              "      <td>60</td>\n",
              "      <td>90</td>\n",
              "      <td>365</td>\n",
              "      <td>2024-07-05</td>\n",
              "      <td>1</td>\n",
              "      <td>0</td>\n",
              "      <td>0</td>\n",
              "      <td>2022-06-05</td>\n",
              "      <td>2022-06-05</td>\n",
              "      <td>5.00</td>\n",
              "      <td>5.00</td>\n",
              "      <td>5.00</td>\n",
              "      <td>5.00</td>\n",
              "      <td>5.00</td>\n",
              "      <td>5.00</td>\n",
              "      <td>5.00</td>\n",
              "      <td>NaN</td>\n",
              "      <td>f</td>\n",
              "      <td>2</td>\n",
              "      <td>0</td>\n",
              "      <td>2</td>\n",
              "      <td>0</td>\n",
              "      <td>0.04</td>\n",
              "    </tr>\n",
              "    <tr>\n",
              "      <th>4</th>\n",
              "      <td>6990</td>\n",
              "      <td>https://www.airbnb.com/rooms/6990</td>\n",
              "      <td>20240705150938</td>\n",
              "      <td>2024-07-06</td>\n",
              "      <td>city scrape</td>\n",
              "      <td>UES Beautiful Blue Room</td>\n",
              "      <td>Beautiful peaceful healthy home</td>\n",
              "      <td>Location: Five minutes to Central Park, Museum...</td>\n",
              "      <td>https://a0.muscache.com/pictures/be6cd5b3-9295...</td>\n",
              "      <td>16800</td>\n",
              "      <td>https://www.airbnb.com/users/show/16800</td>\n",
              "      <td>Cyn</td>\n",
              "      <td>2009-05-12</td>\n",
              "      <td>New York, NY</td>\n",
              "      <td>Capturing the Steinbeck side of life in its Fi...</td>\n",
              "      <td>within an hour</td>\n",
              "      <td>100%</td>\n",
              "      <td>100%</td>\n",
              "      <td>t</td>\n",
              "      <td>https://a0.muscache.com/im/pictures/user/17c4d...</td>\n",
              "      <td>https://a0.muscache.com/im/pictures/user/17c4d...</td>\n",
              "      <td>East Harlem</td>\n",
              "      <td>1.0</td>\n",
              "      <td>6.0</td>\n",
              "      <td>['email', 'phone']</td>\n",
              "      <td>t</td>\n",
              "      <td>t</td>\n",
              "      <td>Neighborhood highlights</td>\n",
              "      <td>East Harlem</td>\n",
              "      <td>Manhattan</td>\n",
              "      <td>40.78778</td>\n",
              "      <td>-73.94759</td>\n",
              "      <td>Private room in rental unit</td>\n",
              "      <td>Private room</td>\n",
              "      <td>1</td>\n",
              "      <td>1.0</td>\n",
              "      <td>1 shared bath</td>\n",
              "      <td>1.0</td>\n",
              "      <td>1.0</td>\n",
              "      <td>[\"Smoke alarm\", \"Fire extinguisher\", \"Heating\"...</td>\n",
              "      <td>65.0</td>\n",
              "      <td>30</td>\n",
              "      <td>365</td>\n",
              "      <td>30.0</td>\n",
              "      <td>30.0</td>\n",
              "      <td>365.0</td>\n",
              "      <td>365.0</td>\n",
              "      <td>30.0</td>\n",
              "      <td>365.0</td>\n",
              "      <td>NaN</td>\n",
              "      <td>t</td>\n",
              "      <td>2</td>\n",
              "      <td>6</td>\n",
              "      <td>6</td>\n",
              "      <td>212</td>\n",
              "      <td>2024-07-06</td>\n",
              "      <td>247</td>\n",
              "      <td>2</td>\n",
              "      <td>0</td>\n",
              "      <td>2009-10-28</td>\n",
              "      <td>2024-03-06</td>\n",
              "      <td>4.88</td>\n",
              "      <td>4.83</td>\n",
              "      <td>4.96</td>\n",
              "      <td>4.96</td>\n",
              "      <td>4.95</td>\n",
              "      <td>4.85</td>\n",
              "      <td>4.84</td>\n",
              "      <td>NaN</td>\n",
              "      <td>f</td>\n",
              "      <td>1</td>\n",
              "      <td>0</td>\n",
              "      <td>1</td>\n",
              "      <td>0</td>\n",
              "      <td>1.38</td>\n",
              "    </tr>\n",
              "    <tr>\n",
              "      <th>6</th>\n",
              "      <td>7097</td>\n",
              "      <td>https://www.airbnb.com/rooms/7097</td>\n",
              "      <td>20240705150938</td>\n",
              "      <td>2024-07-05</td>\n",
              "      <td>city scrape</td>\n",
              "      <td>Perfect for Your Parents, With Garden &amp; Patio</td>\n",
              "      <td>Parents/grandparents coming to town or are you...</td>\n",
              "      <td>Residential, village-like atmosphere. Lots of ...</td>\n",
              "      <td>https://a0.muscache.com/pictures/aaac19fc-4b4d...</td>\n",
              "      <td>17571</td>\n",
              "      <td>https://www.airbnb.com/users/show/17571</td>\n",
              "      <td>Jane</td>\n",
              "      <td>2009-05-17</td>\n",
              "      <td>New York, NY</td>\n",
              "      <td>I appreciate visitors and know New York well, ...</td>\n",
              "      <td>within an hour</td>\n",
              "      <td>100%</td>\n",
              "      <td>100%</td>\n",
              "      <td>t</td>\n",
              "      <td>https://a0.muscache.com/im/pictures/user/18480...</td>\n",
              "      <td>https://a0.muscache.com/im/pictures/user/18480...</td>\n",
              "      <td>Fort Greene</td>\n",
              "      <td>2.0</td>\n",
              "      <td>2.0</td>\n",
              "      <td>['email', 'phone']</td>\n",
              "      <td>t</td>\n",
              "      <td>t</td>\n",
              "      <td>Neighborhood highlights</td>\n",
              "      <td>Fort Greene</td>\n",
              "      <td>Brooklyn</td>\n",
              "      <td>40.69194</td>\n",
              "      <td>-73.97389</td>\n",
              "      <td>Private room in guest suite</td>\n",
              "      <td>Private room</td>\n",
              "      <td>2</td>\n",
              "      <td>1.0</td>\n",
              "      <td>1 private bath</td>\n",
              "      <td>1.0</td>\n",
              "      <td>2.0</td>\n",
              "      <td>[\"Smoke alarm\", \"Heating\", \"Central air condit...</td>\n",
              "      <td>205.0</td>\n",
              "      <td>2</td>\n",
              "      <td>1125</td>\n",
              "      <td>2.0</td>\n",
              "      <td>2.0</td>\n",
              "      <td>1125.0</td>\n",
              "      <td>1125.0</td>\n",
              "      <td>2.0</td>\n",
              "      <td>1125.0</td>\n",
              "      <td>NaN</td>\n",
              "      <td>t</td>\n",
              "      <td>5</td>\n",
              "      <td>9</td>\n",
              "      <td>12</td>\n",
              "      <td>219</td>\n",
              "      <td>2024-07-05</td>\n",
              "      <td>374</td>\n",
              "      <td>36</td>\n",
              "      <td>0</td>\n",
              "      <td>2010-01-16</td>\n",
              "      <td>2024-06-02</td>\n",
              "      <td>4.89</td>\n",
              "      <td>4.91</td>\n",
              "      <td>4.89</td>\n",
              "      <td>4.96</td>\n",
              "      <td>4.93</td>\n",
              "      <td>4.94</td>\n",
              "      <td>4.82</td>\n",
              "      <td>OSE-STRREG-0000008</td>\n",
              "      <td>t</td>\n",
              "      <td>2</td>\n",
              "      <td>0</td>\n",
              "      <td>2</td>\n",
              "      <td>0</td>\n",
              "      <td>2.12</td>\n",
              "    </tr>\n",
              "  </tbody>\n",
              "</table>\n",
              "</div>\n",
              "    <div class=\"colab-df-buttons\">\n",
              "\n",
              "  <div class=\"colab-df-container\">\n",
              "    <button class=\"colab-df-convert\" onclick=\"convertToInteractive('df-bacbc618-ab72-4b37-bfc4-c1c8762a8b79')\"\n",
              "            title=\"Convert this dataframe to an interactive table.\"\n",
              "            style=\"display:none;\">\n",
              "\n",
              "  <svg xmlns=\"http://www.w3.org/2000/svg\" height=\"24px\" viewBox=\"0 -960 960 960\">\n",
              "    <path d=\"M120-120v-720h720v720H120Zm60-500h600v-160H180v160Zm220 220h160v-160H400v160Zm0 220h160v-160H400v160ZM180-400h160v-160H180v160Zm440 0h160v-160H620v160ZM180-180h160v-160H180v160Zm440 0h160v-160H620v160Z\"/>\n",
              "  </svg>\n",
              "    </button>\n",
              "\n",
              "  <style>\n",
              "    .colab-df-container {\n",
              "      display:flex;\n",
              "      gap: 12px;\n",
              "    }\n",
              "\n",
              "    .colab-df-convert {\n",
              "      background-color: #E8F0FE;\n",
              "      border: none;\n",
              "      border-radius: 50%;\n",
              "      cursor: pointer;\n",
              "      display: none;\n",
              "      fill: #1967D2;\n",
              "      height: 32px;\n",
              "      padding: 0 0 0 0;\n",
              "      width: 32px;\n",
              "    }\n",
              "\n",
              "    .colab-df-convert:hover {\n",
              "      background-color: #E2EBFA;\n",
              "      box-shadow: 0px 1px 2px rgba(60, 64, 67, 0.3), 0px 1px 3px 1px rgba(60, 64, 67, 0.15);\n",
              "      fill: #174EA6;\n",
              "    }\n",
              "\n",
              "    .colab-df-buttons div {\n",
              "      margin-bottom: 4px;\n",
              "    }\n",
              "\n",
              "    [theme=dark] .colab-df-convert {\n",
              "      background-color: #3B4455;\n",
              "      fill: #D2E3FC;\n",
              "    }\n",
              "\n",
              "    [theme=dark] .colab-df-convert:hover {\n",
              "      background-color: #434B5C;\n",
              "      box-shadow: 0px 1px 3px 1px rgba(0, 0, 0, 0.15);\n",
              "      filter: drop-shadow(0px 1px 2px rgba(0, 0, 0, 0.3));\n",
              "      fill: #FFFFFF;\n",
              "    }\n",
              "  </style>\n",
              "\n",
              "    <script>\n",
              "      const buttonEl =\n",
              "        document.querySelector('#df-bacbc618-ab72-4b37-bfc4-c1c8762a8b79 button.colab-df-convert');\n",
              "      buttonEl.style.display =\n",
              "        google.colab.kernel.accessAllowed ? 'block' : 'none';\n",
              "\n",
              "      async function convertToInteractive(key) {\n",
              "        const element = document.querySelector('#df-bacbc618-ab72-4b37-bfc4-c1c8762a8b79');\n",
              "        const dataTable =\n",
              "          await google.colab.kernel.invokeFunction('convertToInteractive',\n",
              "                                                    [key], {});\n",
              "        if (!dataTable) return;\n",
              "\n",
              "        const docLinkHtml = 'Like what you see? Visit the ' +\n",
              "          '<a target=\"_blank\" href=https://colab.research.google.com/notebooks/data_table.ipynb>data table notebook</a>'\n",
              "          + ' to learn more about interactive tables.';\n",
              "        element.innerHTML = '';\n",
              "        dataTable['output_type'] = 'display_data';\n",
              "        await google.colab.output.renderOutput(dataTable, element);\n",
              "        const docLink = document.createElement('div');\n",
              "        docLink.innerHTML = docLinkHtml;\n",
              "        element.appendChild(docLink);\n",
              "      }\n",
              "    </script>\n",
              "  </div>\n",
              "\n",
              "\n",
              "<div id=\"df-6264afa4-5002-4cda-9401-5b32411963f1\">\n",
              "  <button class=\"colab-df-quickchart\" onclick=\"quickchart('df-6264afa4-5002-4cda-9401-5b32411963f1')\"\n",
              "            title=\"Suggest charts\"\n",
              "            style=\"display:none;\">\n",
              "\n",
              "<svg xmlns=\"http://www.w3.org/2000/svg\" height=\"24px\"viewBox=\"0 0 24 24\"\n",
              "     width=\"24px\">\n",
              "    <g>\n",
              "        <path d=\"M19 3H5c-1.1 0-2 .9-2 2v14c0 1.1.9 2 2 2h14c1.1 0 2-.9 2-2V5c0-1.1-.9-2-2-2zM9 17H7v-7h2v7zm4 0h-2V7h2v10zm4 0h-2v-4h2v4z\"/>\n",
              "    </g>\n",
              "</svg>\n",
              "  </button>\n",
              "\n",
              "<style>\n",
              "  .colab-df-quickchart {\n",
              "      --bg-color: #E8F0FE;\n",
              "      --fill-color: #1967D2;\n",
              "      --hover-bg-color: #E2EBFA;\n",
              "      --hover-fill-color: #174EA6;\n",
              "      --disabled-fill-color: #AAA;\n",
              "      --disabled-bg-color: #DDD;\n",
              "  }\n",
              "\n",
              "  [theme=dark] .colab-df-quickchart {\n",
              "      --bg-color: #3B4455;\n",
              "      --fill-color: #D2E3FC;\n",
              "      --hover-bg-color: #434B5C;\n",
              "      --hover-fill-color: #FFFFFF;\n",
              "      --disabled-bg-color: #3B4455;\n",
              "      --disabled-fill-color: #666;\n",
              "  }\n",
              "\n",
              "  .colab-df-quickchart {\n",
              "    background-color: var(--bg-color);\n",
              "    border: none;\n",
              "    border-radius: 50%;\n",
              "    cursor: pointer;\n",
              "    display: none;\n",
              "    fill: var(--fill-color);\n",
              "    height: 32px;\n",
              "    padding: 0;\n",
              "    width: 32px;\n",
              "  }\n",
              "\n",
              "  .colab-df-quickchart:hover {\n",
              "    background-color: var(--hover-bg-color);\n",
              "    box-shadow: 0 1px 2px rgba(60, 64, 67, 0.3), 0 1px 3px 1px rgba(60, 64, 67, 0.15);\n",
              "    fill: var(--button-hover-fill-color);\n",
              "  }\n",
              "\n",
              "  .colab-df-quickchart-complete:disabled,\n",
              "  .colab-df-quickchart-complete:disabled:hover {\n",
              "    background-color: var(--disabled-bg-color);\n",
              "    fill: var(--disabled-fill-color);\n",
              "    box-shadow: none;\n",
              "  }\n",
              "\n",
              "  .colab-df-spinner {\n",
              "    border: 2px solid var(--fill-color);\n",
              "    border-color: transparent;\n",
              "    border-bottom-color: var(--fill-color);\n",
              "    animation:\n",
              "      spin 1s steps(1) infinite;\n",
              "  }\n",
              "\n",
              "  @keyframes spin {\n",
              "    0% {\n",
              "      border-color: transparent;\n",
              "      border-bottom-color: var(--fill-color);\n",
              "      border-left-color: var(--fill-color);\n",
              "    }\n",
              "    20% {\n",
              "      border-color: transparent;\n",
              "      border-left-color: var(--fill-color);\n",
              "      border-top-color: var(--fill-color);\n",
              "    }\n",
              "    30% {\n",
              "      border-color: transparent;\n",
              "      border-left-color: var(--fill-color);\n",
              "      border-top-color: var(--fill-color);\n",
              "      border-right-color: var(--fill-color);\n",
              "    }\n",
              "    40% {\n",
              "      border-color: transparent;\n",
              "      border-right-color: var(--fill-color);\n",
              "      border-top-color: var(--fill-color);\n",
              "    }\n",
              "    60% {\n",
              "      border-color: transparent;\n",
              "      border-right-color: var(--fill-color);\n",
              "    }\n",
              "    80% {\n",
              "      border-color: transparent;\n",
              "      border-right-color: var(--fill-color);\n",
              "      border-bottom-color: var(--fill-color);\n",
              "    }\n",
              "    90% {\n",
              "      border-color: transparent;\n",
              "      border-bottom-color: var(--fill-color);\n",
              "    }\n",
              "  }\n",
              "</style>\n",
              "\n",
              "  <script>\n",
              "    async function quickchart(key) {\n",
              "      const quickchartButtonEl =\n",
              "        document.querySelector('#' + key + ' button');\n",
              "      quickchartButtonEl.disabled = true;  // To prevent multiple clicks.\n",
              "      quickchartButtonEl.classList.add('colab-df-spinner');\n",
              "      try {\n",
              "        const charts = await google.colab.kernel.invokeFunction(\n",
              "            'suggestCharts', [key], {});\n",
              "      } catch (error) {\n",
              "        console.error('Error during call to suggestCharts:', error);\n",
              "      }\n",
              "      quickchartButtonEl.classList.remove('colab-df-spinner');\n",
              "      quickchartButtonEl.classList.add('colab-df-quickchart-complete');\n",
              "    }\n",
              "    (() => {\n",
              "      let quickchartButtonEl =\n",
              "        document.querySelector('#df-6264afa4-5002-4cda-9401-5b32411963f1 button');\n",
              "      quickchartButtonEl.style.display =\n",
              "        google.colab.kernel.accessAllowed ? 'block' : 'none';\n",
              "    })();\n",
              "  </script>\n",
              "</div>\n",
              "\n",
              "    </div>\n",
              "  </div>\n"
            ],
            "application/vnd.google.colaboratory.intrinsic+json": {
              "type": "dataframe",
              "variable_name": "listin"
            }
          },
          "metadata": {},
          "execution_count": 141
        }
      ]
    },
    {
      "cell_type": "code",
      "source": [
        "listin.to_csv('Listing_clean.csv', index=False,sep=',')"
      ],
      "metadata": {
        "id": "RSV4GLeWyLBZ"
      },
      "id": "RSV4GLeWyLBZ",
      "execution_count": 142,
      "outputs": []
    }
  ],
  "metadata": {
    "kernelspec": {
      "display_name": "Python 3 (ipykernel)",
      "language": "python",
      "name": "python3"
    },
    "language_info": {
      "codemirror_mode": {
        "name": "ipython",
        "version": 3
      },
      "file_extension": ".py",
      "mimetype": "text/x-python",
      "name": "python",
      "nbconvert_exporter": "python",
      "pygments_lexer": "ipython3",
      "version": "3.12.4"
    },
    "colab": {
      "provenance": []
    }
  },
  "nbformat": 4,
  "nbformat_minor": 5
}